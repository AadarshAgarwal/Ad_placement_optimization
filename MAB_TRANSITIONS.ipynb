{
 "cells": [
  {
   "cell_type": "code",
   "execution_count": 1,
   "id": "ba3dbd2e",
   "metadata": {
    "ExecuteTime": {
     "end_time": "2023-07-10T12:06:04.656033Z",
     "start_time": "2023-07-10T12:06:02.721177Z"
    }
   },
   "outputs": [],
   "source": [
    "import numpy as np\n",
    "import pandas as pd\n",
    "import tensorflow as tf\n",
    "from tensorflow.keras.layers import *\n",
    "from tensorflow.keras.models import Model\n",
    "from tensorflow.keras.optimizers import Adam\n",
    "import copy \n",
    "from keras.callbacks import EarlyStopping\n",
    "\n",
    "tf.config.run_functions_eagerly(True)"
   ]
  },
  {
   "cell_type": "code",
   "execution_count": 3,
   "id": "f71805c5",
   "metadata": {
    "ExecuteTime": {
     "end_time": "2023-07-10T12:06:07.842202Z",
     "start_time": "2023-07-10T12:06:05.016585Z"
    },
    "run_control": {
     "marked": false
    }
   },
   "outputs": [],
   "source": [
    "df=pd.read_csv('Transitions.csv')\n",
    "df['transition']=df['transition'].apply(lambda x: 0 if x==\"['OFFLINE_SEARCH_PAGE', 'Playing_window']\" else x)\n",
    "df['transition']=df['transition'].apply(lambda x: 1 if x==\"['Playing_window', 'BACK_PRESSED_PAGE']\" else x)\n",
    "df['transition']=df['transition'].apply(lambda x: 2 if x==\"['Playlist_inside', 'Playing_window']\" else x)"
   ]
  },
  {
   "cell_type": "code",
   "execution_count": 4,
   "id": "d9ccdd37",
   "metadata": {
    "ExecuteTime": {
     "end_time": "2023-07-11T06:54:30.709803Z",
     "start_time": "2023-07-11T06:54:30.380925Z"
    },
    "run_control": {
     "marked": false
    }
   },
   "outputs": [],
   "source": [
    "sorted_df = df.sort_values(by='event_timestamp')"
   ]
  },
  {
   "cell_type": "code",
   "execution_count": 5,
   "id": "33fafb49",
   "metadata": {
    "ExecuteTime": {
     "end_time": "2023-07-11T06:54:55.922678Z",
     "start_time": "2023-07-11T06:54:55.913326Z"
    },
    "run_control": {
     "marked": false
    }
   },
   "outputs": [],
   "source": [
    "df=sorted_df"
   ]
  },
  {
   "cell_type": "code",
   "execution_count": 6,
   "id": "762c7807",
   "metadata": {
    "ExecuteTime": {
     "end_time": "2023-07-11T07:10:33.390970Z",
     "start_time": "2023-07-11T07:10:33.273120Z"
    }
   },
   "outputs": [],
   "source": [
    "df=df.reset_index(drop=True)"
   ]
  },
  {
   "cell_type": "code",
   "execution_count": 7,
   "id": "81a41675",
   "metadata": {
    "ExecuteTime": {
     "end_time": "2023-07-11T06:55:01.222307Z",
     "start_time": "2023-07-11T06:55:01.205621Z"
    },
    "run_control": {
     "marked": false
    }
   },
   "outputs": [],
   "source": [
    "import numpy as np\n",
    "\n",
    "\n",
    "\n",
    "class ContextualBandits:\n",
    "    def __init__(self, d, alpha):\n",
    "        self.d = d  # dimension\n",
    "        self.alpha = alpha  # exploration parameter\n",
    "        self.A = {}  # dictionary to store A matrices for each arm\n",
    "        self.b = {}  # dictionary to store b vectors for each arm\n",
    "        self.c= {}\n",
    "        self.rewarddd = {}\n",
    "        \n",
    "    \n",
    "    def create_one_hot_vector(self,index, length):\n",
    "        vector = np.zeros(length)\n",
    "        vector[index] = 1\n",
    "        return vector\n",
    "    \n",
    "    def create_vector(self,n, d):\n",
    "        vector = np.full((d, 1), 0.2)\n",
    "        vector[n] = 1\n",
    "        return vector\n",
    "\n",
    "    def choose_arm(self, features,day):\n",
    "        p_values = {}  # dictionary to store p values for each arm\n",
    "\n",
    "        for arm,z in features.items():\n",
    "            if arm not in self.A:  # if arm is new, initialize A and b\n",
    "                self.A[arm] = np.identity(self.d)\n",
    "                #self.A[arm] = np.eye(d) + 0.1 * np.ones((d, d))\n",
    "                self.b[arm] = np.zeros((self.d, 1))\n",
    "                self.c[arm] = np.zeros((self.d, 1))\n",
    "                self.rewarddd[arm] = np.zeros((self.d, 1))\n",
    "            \n",
    "            x = self.create_vector(day,7)\n",
    "            \n",
    "            A_inv = np.linalg.inv(self.A[arm])\n",
    "            theta_hat = np.dot(A_inv, self.b[arm])\n",
    "            p_values[arm] = np.dot(theta_hat.T, x) + self.alpha * np.sqrt(np.dot(np.dot(x.T, A_inv), x))\n",
    "\n",
    "        chosen_arm = max(p_values, key=p_values.get)\n",
    "        self.c[chosen_arm][day]+=1\n",
    "        return chosen_arm\n",
    "\n",
    "    def update_params(self, arm, day, reward):\n",
    "        x = self.create_vector(day,7)\n",
    "        x=x.reshape(1,-1)\n",
    "        x_T = x.reshape((-1, 1))\n",
    "        self.A[arm] += np.dot(x_T,x)\n",
    "        self.b[arm] += reward * x_T"
   ]
  },
  {
   "cell_type": "code",
   "execution_count": 8,
   "id": "564e8f9d",
   "metadata": {
    "ExecuteTime": {
     "end_time": "2023-07-11T07:21:45.648424Z",
     "start_time": "2023-07-11T07:21:39.398122Z"
    },
    "run_control": {
     "marked": false
    }
   },
   "outputs": [],
   "source": [
    "import random\n",
    "import time\n",
    "\n",
    "d = 7  # dimension\n",
    "alpha = 0.4  # exploration parameter\n",
    "bandits = ContextualBandits(d, alpha)\n",
    "rewardd=0\n",
    "\n",
    "T = 1000 # number of iterations\n",
    "features = {0: np.array([0, 1, 2, 3, 4, 5, 6]), 1: np.array([0,1,2,3,4,5,6]), 2: np.array([0,1,2,3,4,5,6])}  \n",
    "for t in range(1, T+1):\n",
    "    day = random.randint(0, 6)\n",
    "    chosen_arm = bandits.choose_arm(features,day)\n",
    "    reward = df.loc[(df['transition'] == chosen_arm) & (df['days']==day), 'ad_clicked'].sample().values[0]\n",
    "    bandits.update_params(chosen_arm, day, reward)\n",
    "    bandits.rewarddd[chosen_arm][day]+=reward"
   ]
  },
  {
   "cell_type": "code",
   "execution_count": 10,
   "id": "76a21164",
   "metadata": {
    "ExecuteTime": {
     "end_time": "2023-07-11T07:32:55.143141Z",
     "start_time": "2023-07-11T07:24:28.184265Z"
    }
   },
   "outputs": [],
   "source": [
    "import random\n",
    "import time\n",
    "\n",
    "d = 7  # dimension\n",
    "alpha = 0.4  # exploration parameter\n",
    "bandits = ContextualBandits(d, alpha)\n",
    "rewardd=0\n",
    "\n",
    "T = 1000 # number of iterations\n",
    "features = {0: np.array([0, 1, 2, 3, 4, 5, 6]), 1: np.array([0,1,2,3,4,5,6]), 2: np.array([0,1,2,3,4,5,6])}  \n",
    "for t in range(1, T+1):\n",
    "    day = random.randint(0, 6)\n",
    "    chosen_arm = bandits.choose_arm(features,day)\n",
    "    reward = df.loc[(df['transition'] == chosen_arm) & (df['days']==day), 'ad_clicked'].values[int(bandits.c[chosen_arm][day])]\n",
    "    bandits.update_params(chosen_arm, day, reward)\n",
    "    bandits.rewarddd[chosen_arm][day]+=reward"
   ]
  },
  {
   "cell_type": "code",
   "execution_count": 11,
   "id": "e79aed23",
   "metadata": {
    "ExecuteTime": {
     "end_time": "2023-07-11T07:32:55.155666Z",
     "start_time": "2023-07-11T07:32:55.144407Z"
    },
    "run_control": {
     "marked": false
    }
   },
   "outputs": [],
   "source": [
    "tmp = df[['transition','ad_clicked']].copy()"
   ]
  },
  {
   "cell_type": "code",
   "execution_count": 12,
   "id": "757bdf0f",
   "metadata": {
    "ExecuteTime": {
     "end_time": "2023-07-11T07:32:56.149242Z",
     "start_time": "2023-07-11T07:32:55.157514Z"
    },
    "run_control": {
     "marked": false
    }
   },
   "outputs": [
    {
     "name": "stdout",
     "output_type": "stream",
     "text": [
      "1.699350118637085\n"
     ]
    }
   ],
   "source": [
    "# print(\"Current time:\", time.strftime(\"%H:%M:%S\"))    \n",
    "start_time = time.time()\n",
    "for t in range(1,100):\n",
    "    #reward = df[['transition'],['ad_clicked']].loc[df['transition']==chosen_arm].sample()['ad_clicked'].values[0] \n",
    "#     tmp = df.sample(1000)\n",
    "    reward = tmp.loc[tmp['transition'] == chosen_arm, 'ad_clicked'].sample().values[0]\n",
    "    # print(\"Current time:\", time.strftime(\"%H:%M:%S\"))\n",
    "print(time.time()-start_time)"
   ]
  },
  {
   "cell_type": "code",
   "execution_count": 13,
   "id": "34e92ca6",
   "metadata": {
    "ExecuteTime": {
     "end_time": "2023-07-11T07:32:57.122397Z",
     "start_time": "2023-07-11T07:32:56.150616Z"
    }
   },
   "outputs": [
    {
     "name": "stdout",
     "output_type": "stream",
     "text": [
      "1.6734638214111328\n"
     ]
    }
   ],
   "source": [
    "# print(\"Current time:\", time.strftime(\"%H:%M:%S\"))    \n",
    "start_time = time.time()\n",
    "for t in range(1,100):\n",
    "    #reward = df[['transition'],['ad_clicked']].loc[df['transition']==chosen_arm].sample()['ad_clicked'].values[0] \n",
    "    \n",
    "    reward = df.loc[df['transition'] == chosen_arm, 'ad_clicked'].sample().values[0]\n",
    "    # print(\"Current time:\", time.strftime(\"%H:%M:%S\"))\n",
    "print(time.time()-start_time)"
   ]
  },
  {
   "cell_type": "code",
   "execution_count": 14,
   "id": "688579fc",
   "metadata": {
    "ExecuteTime": {
     "end_time": "2023-07-11T07:32:57.129004Z",
     "start_time": "2023-07-11T07:32:57.123224Z"
    }
   },
   "outputs": [
    {
     "data": {
      "text/html": [
       "<div>\n",
       "<style scoped>\n",
       "    .dataframe tbody tr th:only-of-type {\n",
       "        vertical-align: middle;\n",
       "    }\n",
       "\n",
       "    .dataframe tbody tr th {\n",
       "        vertical-align: top;\n",
       "    }\n",
       "\n",
       "    .dataframe thead th {\n",
       "        text-align: right;\n",
       "    }\n",
       "</style>\n",
       "<table border=\"1\" class=\"dataframe\">\n",
       "  <thead>\n",
       "    <tr style=\"text-align: right;\">\n",
       "      <th></th>\n",
       "      <th>user_pseudo_id</th>\n",
       "      <th>event_date</th>\n",
       "      <th>event_timestamp</th>\n",
       "      <th>firebase_screen</th>\n",
       "      <th>page_2</th>\n",
       "      <th>ga_session_number</th>\n",
       "      <th>ad_action_type</th>\n",
       "      <th>ga_session_id</th>\n",
       "      <th>page_1</th>\n",
       "      <th>transition</th>\n",
       "      <th>ad_clicked</th>\n",
       "      <th>days</th>\n",
       "    </tr>\n",
       "  </thead>\n",
       "  <tbody>\n",
       "    <tr>\n",
       "      <th>0</th>\n",
       "      <td>b7aeb2e70454f9f97f2b56297be9d34a</td>\n",
       "      <td>20230607</td>\n",
       "      <td>1686076202169004</td>\n",
       "      <td>Splash_screen</td>\n",
       "      <td>Playing_window</td>\n",
       "      <td>843</td>\n",
       "      <td>AD_CLOSED</td>\n",
       "      <td>1686076119</td>\n",
       "      <td>Playlist_inside</td>\n",
       "      <td>2</td>\n",
       "      <td>0</td>\n",
       "      <td>5</td>\n",
       "    </tr>\n",
       "    <tr>\n",
       "      <th>1</th>\n",
       "      <td>46e67e7650f34cf764246114f8afc972</td>\n",
       "      <td>20230607</td>\n",
       "      <td>1686076202566000</td>\n",
       "      <td>Playing_window</td>\n",
       "      <td>BACK_PRESSED_PAGE</td>\n",
       "      <td>2392</td>\n",
       "      <td>AD_OPENED</td>\n",
       "      <td>1686076153</td>\n",
       "      <td>Playing_window</td>\n",
       "      <td>1</td>\n",
       "      <td>0</td>\n",
       "      <td>5</td>\n",
       "    </tr>\n",
       "    <tr>\n",
       "      <th>2</th>\n",
       "      <td>4d2185131e8ea1d6b51bddefc38c67ce</td>\n",
       "      <td>20230607</td>\n",
       "      <td>1686076203460001</td>\n",
       "      <td>Playlist_inside</td>\n",
       "      <td>Playing_window</td>\n",
       "      <td>223</td>\n",
       "      <td>AD_OPENED</td>\n",
       "      <td>1686076166</td>\n",
       "      <td>Playlist_inside</td>\n",
       "      <td>2</td>\n",
       "      <td>0</td>\n",
       "      <td>5</td>\n",
       "    </tr>\n",
       "    <tr>\n",
       "      <th>3</th>\n",
       "      <td>4eaa100130d6bb743b1819de5d51dbe9</td>\n",
       "      <td>20230607</td>\n",
       "      <td>1686076210244010</td>\n",
       "      <td>Playing_window</td>\n",
       "      <td>BACK_PRESSED_PAGE</td>\n",
       "      <td>535</td>\n",
       "      <td>AD_OPENED</td>\n",
       "      <td>1686076197</td>\n",
       "      <td>Playing_window</td>\n",
       "      <td>1</td>\n",
       "      <td>0</td>\n",
       "      <td>5</td>\n",
       "    </tr>\n",
       "    <tr>\n",
       "      <th>4</th>\n",
       "      <td>398996510d8f417cf19c59d877091899</td>\n",
       "      <td>20230607</td>\n",
       "      <td>1686076213280007</td>\n",
       "      <td>Search_common</td>\n",
       "      <td>Playing_window</td>\n",
       "      <td>36</td>\n",
       "      <td>AD_OPENED</td>\n",
       "      <td>1686076199</td>\n",
       "      <td>OFFLINE_SEARCH_PAGE</td>\n",
       "      <td>0</td>\n",
       "      <td>0</td>\n",
       "      <td>5</td>\n",
       "    </tr>\n",
       "    <tr>\n",
       "      <th>...</th>\n",
       "      <td>...</td>\n",
       "      <td>...</td>\n",
       "      <td>...</td>\n",
       "      <td>...</td>\n",
       "      <td>...</td>\n",
       "      <td>...</td>\n",
       "      <td>...</td>\n",
       "      <td>...</td>\n",
       "      <td>...</td>\n",
       "      <td>...</td>\n",
       "      <td>...</td>\n",
       "      <td>...</td>\n",
       "    </tr>\n",
       "    <tr>\n",
       "      <th>2069916</th>\n",
       "      <td>fd8665f6ee4a9d456a3ad3b747dfa25e</td>\n",
       "      <td>20230615</td>\n",
       "      <td>1686855575806106</td>\n",
       "      <td>Playlist_inside</td>\n",
       "      <td>Playing_window</td>\n",
       "      <td>2110</td>\n",
       "      <td>AD_OPENED</td>\n",
       "      <td>1686852512</td>\n",
       "      <td>Playlist_inside</td>\n",
       "      <td>2</td>\n",
       "      <td>0</td>\n",
       "      <td>6</td>\n",
       "    </tr>\n",
       "    <tr>\n",
       "      <th>2069917</th>\n",
       "      <td>fd8665f6ee4a9d456a3ad3b747dfa25e</td>\n",
       "      <td>20230615</td>\n",
       "      <td>1686855575806106</td>\n",
       "      <td>Playlist_inside</td>\n",
       "      <td>Playing_window</td>\n",
       "      <td>2110</td>\n",
       "      <td>AD_OPENED</td>\n",
       "      <td>1686852512</td>\n",
       "      <td>Playlist_inside</td>\n",
       "      <td>2</td>\n",
       "      <td>0</td>\n",
       "      <td>6</td>\n",
       "    </tr>\n",
       "    <tr>\n",
       "      <th>2069918</th>\n",
       "      <td>fd8665f6ee4a9d456a3ad3b747dfa25e</td>\n",
       "      <td>20230615</td>\n",
       "      <td>1686855575806106</td>\n",
       "      <td>Playlist_inside</td>\n",
       "      <td>Playing_window</td>\n",
       "      <td>2110</td>\n",
       "      <td>AD_OPENED</td>\n",
       "      <td>1686852512</td>\n",
       "      <td>Playlist_inside</td>\n",
       "      <td>2</td>\n",
       "      <td>0</td>\n",
       "      <td>6</td>\n",
       "    </tr>\n",
       "    <tr>\n",
       "      <th>2069919</th>\n",
       "      <td>fd8665f6ee4a9d456a3ad3b747dfa25e</td>\n",
       "      <td>20230615</td>\n",
       "      <td>1686855575806106</td>\n",
       "      <td>Playlist_inside</td>\n",
       "      <td>Playing_window</td>\n",
       "      <td>2110</td>\n",
       "      <td>AD_OPENED</td>\n",
       "      <td>1686852512</td>\n",
       "      <td>Playlist_inside</td>\n",
       "      <td>2</td>\n",
       "      <td>0</td>\n",
       "      <td>6</td>\n",
       "    </tr>\n",
       "    <tr>\n",
       "      <th>2069920</th>\n",
       "      <td>fd8665f6ee4a9d456a3ad3b747dfa25e</td>\n",
       "      <td>20230615</td>\n",
       "      <td>1686855575806106</td>\n",
       "      <td>Playlist_inside</td>\n",
       "      <td>Playing_window</td>\n",
       "      <td>2110</td>\n",
       "      <td>AD_OPENED</td>\n",
       "      <td>1686852512</td>\n",
       "      <td>Playlist_inside</td>\n",
       "      <td>2</td>\n",
       "      <td>0</td>\n",
       "      <td>6</td>\n",
       "    </tr>\n",
       "  </tbody>\n",
       "</table>\n",
       "<p>2069921 rows × 12 columns</p>\n",
       "</div>"
      ],
      "text/plain": [
       "                           user_pseudo_id  event_date   event_timestamp  \\\n",
       "0        b7aeb2e70454f9f97f2b56297be9d34a    20230607  1686076202169004   \n",
       "1        46e67e7650f34cf764246114f8afc972    20230607  1686076202566000   \n",
       "2        4d2185131e8ea1d6b51bddefc38c67ce    20230607  1686076203460001   \n",
       "3        4eaa100130d6bb743b1819de5d51dbe9    20230607  1686076210244010   \n",
       "4        398996510d8f417cf19c59d877091899    20230607  1686076213280007   \n",
       "...                                   ...         ...               ...   \n",
       "2069916  fd8665f6ee4a9d456a3ad3b747dfa25e    20230615  1686855575806106   \n",
       "2069917  fd8665f6ee4a9d456a3ad3b747dfa25e    20230615  1686855575806106   \n",
       "2069918  fd8665f6ee4a9d456a3ad3b747dfa25e    20230615  1686855575806106   \n",
       "2069919  fd8665f6ee4a9d456a3ad3b747dfa25e    20230615  1686855575806106   \n",
       "2069920  fd8665f6ee4a9d456a3ad3b747dfa25e    20230615  1686855575806106   \n",
       "\n",
       "         firebase_screen             page_2  ga_session_number ad_action_type  \\\n",
       "0          Splash_screen     Playing_window                843      AD_CLOSED   \n",
       "1         Playing_window  BACK_PRESSED_PAGE               2392      AD_OPENED   \n",
       "2        Playlist_inside     Playing_window                223      AD_OPENED   \n",
       "3         Playing_window  BACK_PRESSED_PAGE                535      AD_OPENED   \n",
       "4          Search_common     Playing_window                 36      AD_OPENED   \n",
       "...                  ...                ...                ...            ...   \n",
       "2069916  Playlist_inside     Playing_window               2110      AD_OPENED   \n",
       "2069917  Playlist_inside     Playing_window               2110      AD_OPENED   \n",
       "2069918  Playlist_inside     Playing_window               2110      AD_OPENED   \n",
       "2069919  Playlist_inside     Playing_window               2110      AD_OPENED   \n",
       "2069920  Playlist_inside     Playing_window               2110      AD_OPENED   \n",
       "\n",
       "         ga_session_id               page_1  transition  ad_clicked  days  \n",
       "0           1686076119      Playlist_inside           2           0     5  \n",
       "1           1686076153       Playing_window           1           0     5  \n",
       "2           1686076166      Playlist_inside           2           0     5  \n",
       "3           1686076197       Playing_window           1           0     5  \n",
       "4           1686076199  OFFLINE_SEARCH_PAGE           0           0     5  \n",
       "...                ...                  ...         ...         ...   ...  \n",
       "2069916     1686852512      Playlist_inside           2           0     6  \n",
       "2069917     1686852512      Playlist_inside           2           0     6  \n",
       "2069918     1686852512      Playlist_inside           2           0     6  \n",
       "2069919     1686852512      Playlist_inside           2           0     6  \n",
       "2069920     1686852512      Playlist_inside           2           0     6  \n",
       "\n",
       "[2069921 rows x 12 columns]"
      ]
     },
     "execution_count": 14,
     "metadata": {},
     "output_type": "execute_result"
    }
   ],
   "source": [
    "df"
   ]
  },
  {
   "cell_type": "code",
   "execution_count": 15,
   "id": "ffd71899",
   "metadata": {
    "ExecuteTime": {
     "end_time": "2023-07-11T07:32:57.132663Z",
     "start_time": "2023-07-11T07:32:57.129893Z"
    }
   },
   "outputs": [
    {
     "data": {
      "text/plain": [
       "{0: array([[64.44, 28.56, 30.16, 26.96, 27.92, 27.44, 26.96],\n",
       "        [28.56, 58.68, 29.2 , 26.  , 26.96, 26.48, 26.  ],\n",
       "        [30.16, 29.2 , 68.28, 27.6 , 28.56, 28.08, 27.6 ],\n",
       "        [26.96, 26.  , 27.6 , 49.08, 25.36, 24.88, 24.4 ],\n",
       "        [27.92, 26.96, 28.56, 25.36, 54.84, 25.84, 25.36],\n",
       "        [27.44, 26.48, 28.08, 24.88, 25.84, 51.96, 24.88],\n",
       "        [26.96, 26.  , 27.6 , 24.4 , 25.36, 24.88, 49.08]]),\n",
       " 1: array([[65.6 , 29.88, 31.32, 32.44, 29.24, 28.6 , 28.12],\n",
       "        [29.88, 60.8 , 30.52, 31.64, 28.44, 27.8 , 27.32],\n",
       "        [31.32, 30.52, 69.44, 33.08, 29.88, 29.24, 28.76],\n",
       "        [32.44, 31.64, 33.08, 76.16, 31.  , 30.36, 29.88],\n",
       "        [29.24, 28.44, 29.88, 31.  , 56.96, 27.16, 26.68],\n",
       "        [28.6 , 27.8 , 29.24, 30.36, 27.16, 53.12, 26.04],\n",
       "        [28.12, 27.32, 28.76, 29.88, 26.68, 26.04, 50.24]]),\n",
       " 2: array([[65.6 , 29.72, 31.32, 28.12, 29.24, 28.6 , 32.6 ],\n",
       "        [29.72, 59.84, 30.36, 27.16, 28.28, 27.64, 31.64],\n",
       "        [31.32, 30.36, 69.44, 28.76, 29.88, 29.24, 33.24],\n",
       "        [28.12, 27.16, 28.76, 50.24, 26.68, 26.04, 30.04],\n",
       "        [29.24, 28.28, 29.88, 26.68, 56.96, 27.16, 31.16],\n",
       "        [28.6 , 27.64, 29.24, 26.04, 27.16, 53.12, 30.52],\n",
       "        [32.6 , 31.64, 33.24, 30.04, 31.16, 30.52, 77.12]])}"
      ]
     },
     "execution_count": 15,
     "metadata": {},
     "output_type": "execute_result"
    }
   ],
   "source": [
    "bandits.A"
   ]
  },
  {
   "cell_type": "code",
   "execution_count": 16,
   "id": "f0837b8a",
   "metadata": {
    "ExecuteTime": {
     "end_time": "2023-07-11T07:32:57.135967Z",
     "start_time": "2023-07-11T07:32:57.133564Z"
    }
   },
   "outputs": [
    {
     "data": {
      "text/plain": [
       "{0: array([[0.],\n",
       "        [0.],\n",
       "        [0.],\n",
       "        [0.],\n",
       "        [0.],\n",
       "        [0.],\n",
       "        [0.]]),\n",
       " 1: array([[0.2],\n",
       "        [0.2],\n",
       "        [0.2],\n",
       "        [1. ],\n",
       "        [0.2],\n",
       "        [0.2],\n",
       "        [0.2]]),\n",
       " 2: array([[0.2],\n",
       "        [0.2],\n",
       "        [0.2],\n",
       "        [0.2],\n",
       "        [0.2],\n",
       "        [0.2],\n",
       "        [1. ]])}"
      ]
     },
     "execution_count": 16,
     "metadata": {},
     "output_type": "execute_result"
    }
   ],
   "source": [
    "bandits.b"
   ]
  },
  {
   "cell_type": "code",
   "execution_count": 17,
   "id": "66cfb7fd",
   "metadata": {
    "ExecuteTime": {
     "end_time": "2023-07-11T07:32:57.138828Z",
     "start_time": "2023-07-11T07:32:57.136852Z"
    }
   },
   "outputs": [
    {
     "data": {
      "text/plain": [
       "0"
      ]
     },
     "execution_count": 17,
     "metadata": {},
     "output_type": "execute_result"
    }
   ],
   "source": [
    "rewardd"
   ]
  },
  {
   "cell_type": "code",
   "execution_count": 18,
   "id": "01a034ea",
   "metadata": {
    "ExecuteTime": {
     "end_time": "2023-07-11T07:32:57.142132Z",
     "start_time": "2023-07-11T07:32:57.139652Z"
    }
   },
   "outputs": [
    {
     "data": {
      "text/plain": [
       "{0: array([[53.],\n",
       "        [47.],\n",
       "        [57.],\n",
       "        [37.],\n",
       "        [43.],\n",
       "        [40.],\n",
       "        [37.]]),\n",
       " 1: array([[53.],\n",
       "        [48.],\n",
       "        [57.],\n",
       "        [64.],\n",
       "        [44.],\n",
       "        [40.],\n",
       "        [37.]]),\n",
       " 2: array([[53.],\n",
       "        [47.],\n",
       "        [57.],\n",
       "        [37.],\n",
       "        [44.],\n",
       "        [40.],\n",
       "        [65.]])}"
      ]
     },
     "execution_count": 18,
     "metadata": {},
     "output_type": "execute_result"
    }
   ],
   "source": [
    "bandits.c"
   ]
  },
  {
   "cell_type": "code",
   "execution_count": 19,
   "id": "0eb5ccaf",
   "metadata": {
    "ExecuteTime": {
     "end_time": "2023-07-11T07:32:57.146729Z",
     "start_time": "2023-07-11T07:32:57.144308Z"
    }
   },
   "outputs": [
    {
     "data": {
      "text/plain": [
       "{0: array([[0.],\n",
       "        [0.],\n",
       "        [0.],\n",
       "        [0.],\n",
       "        [0.],\n",
       "        [0.],\n",
       "        [0.]]),\n",
       " 1: array([[0.],\n",
       "        [0.],\n",
       "        [0.],\n",
       "        [1.],\n",
       "        [0.],\n",
       "        [0.],\n",
       "        [0.]]),\n",
       " 2: array([[0.],\n",
       "        [0.],\n",
       "        [0.],\n",
       "        [0.],\n",
       "        [0.],\n",
       "        [0.],\n",
       "        [1.]])}"
      ]
     },
     "execution_count": 19,
     "metadata": {},
     "output_type": "execute_result"
    }
   ],
   "source": [
    "bandits.rewarddd"
   ]
  },
  {
   "cell_type": "code",
   "execution_count": null,
   "id": "f1ac1b69",
   "metadata": {},
   "outputs": [],
   "source": []
  },
  {
   "cell_type": "code",
   "execution_count": null,
   "id": "4fde261f",
   "metadata": {},
   "outputs": [],
   "source": []
  },
  {
   "cell_type": "code",
   "execution_count": null,
   "id": "9b970725",
   "metadata": {},
   "outputs": [],
   "source": []
  },
  {
   "cell_type": "code",
   "execution_count": null,
   "id": "4e9993c7",
   "metadata": {},
   "outputs": [],
   "source": []
  }
 ],
 "metadata": {
  "kernelspec": {
   "display_name": "Python 3 (ipykernel)",
   "language": "python",
   "name": "python3"
  },
  "language_info": {
   "codemirror_mode": {
    "name": "ipython",
    "version": 3
   },
   "file_extension": ".py",
   "mimetype": "text/x-python",
   "name": "python",
   "nbconvert_exporter": "python",
   "pygments_lexer": "ipython3",
   "version": "3.10.9"
  },
  "toc": {
   "base_numbering": 1,
   "nav_menu": {},
   "number_sections": true,
   "sideBar": true,
   "skip_h1_title": false,
   "title_cell": "Table of Contents",
   "title_sidebar": "Contents",
   "toc_cell": false,
   "toc_position": {},
   "toc_section_display": true,
   "toc_window_display": false
  }
 },
 "nbformat": 4,
 "nbformat_minor": 5
}
